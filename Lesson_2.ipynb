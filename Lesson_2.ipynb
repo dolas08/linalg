{
 "cells": [
  {
   "cell_type": "code",
   "execution_count": 1,
   "id": "5cd9991e",
   "metadata": {},
   "outputs": [],
   "source": [
    "import numpy as np"
   ]
  },
  {
   "cell_type": "markdown",
   "id": "2c3748f7",
   "metadata": {},
   "source": [
    "# part 1\n",
    "Все задания рекомендуется делать вручную, проверяя полученные результаты через NumPy.\n",
    "\n",
    "__1.__ Установите, какие произведения матриц $AB$ и $BA$ определены, и найдите размерности полученных матриц:\n",
    "\n",
    "   а) $A$ — матрица $4\\times 2$, $B$ — матрица $4\\times 2$;\n",
    "    \n",
    "   б) $A$ — матрица $2\\times 5$, $B$ — матрица $5\\times 3$;\n",
    "    \n",
    "   в) $A$ — матрица $8\\times 3$, $B$ — матрица $3\\times 8$;\n",
    "    \n",
    "   г) $A$ — квадратная матрица $4\\times 4$, $B$ — квадратная матрица $4\\times 4$.\n",
    "    \n"
   ]
  },
  {
   "cell_type": "markdown",
   "id": "db62dce2",
   "metadata": {},
   "source": [
    "m x n, m = строка, n = столбец<br>\n",
    "а)строка не равна столбцу<br>\n",
    "б)2х3<br>\n",
    "в)8х8<br>\n",
    "г)4х4<br>"
   ]
  },
  {
   "cell_type": "markdown",
   "id": "bdfff0e7",
   "metadata": {},
   "source": [
    "__2.__ Найдите сумму и произведение матриц $A=\\begin{pmatrix}\n",
    "1 & -2\\\\ \n",
    "3 & 0\n",
    "\\end{pmatrix}$ и $B=\\begin{pmatrix}\n",
    "4 & -1\\\\ \n",
    "0 & 5\n",
    "\\end{pmatrix}.$\n"
   ]
  },
  {
   "cell_type": "code",
   "execution_count": 2,
   "id": "4ac08412",
   "metadata": {},
   "outputs": [
    {
     "name": "stdout",
     "output_type": "stream",
     "text": [
      "сумма матриц:\n",
      "5 -3\n",
      "3  5\n",
      "\n",
      "произведение матриц A и B:\n",
      "04 -11\n",
      "12 -3\n",
      "\n",
      "проверка numpy:\n",
      "[[ 5 -3]\n",
      " [ 3  5]]\n",
      "\n",
      "[[  4 -11]\n",
      " [ 12  -3]]\n"
     ]
    }
   ],
   "source": [
    "print('сумма матриц:')\n",
    "c11 = 1+4\n",
    "c12 = -2-1\n",
    "c21 = 3+0\n",
    "c22 = 0+5\n",
    "print(f'{c11} {c12}\\n{c21}  {c22}\\n')\n",
    "print('произведение матриц A и B:')\n",
    "c11 = (1 * 4) + (-2 * 0)\n",
    "c12 = (1 * -1) + (-2 * 5)\n",
    "c21 = (3 * 4) + (0 * 0)\n",
    "c22 = (3 * -1) + (0 * 5)\n",
    "\n",
    "print(f'0{c11} {c12}\\n{c21} {c22}\\n')\n",
    "print('проверка numpy:')\n",
    "A = np.array([[1,-2],[3,0]])\n",
    "B = np.array([[4,-1],[0,5]])\n",
    "print(A+B)\n",
    "print()\n",
    "print(A @ B)\n",
    "# matrixmult(A,B)"
   ]
  },
  {
   "cell_type": "markdown",
   "id": "8c64b5b0",
   "metadata": {},
   "source": [
    "\n",
    "__3.__ Из закономерностей сложения и умножения матриц на число можно сделать вывод, что матрицы одного размера образуют линейное пространство. Вычислите линейную комбинацию $3A-2B+4C$ для матриц $A=\\begin{pmatrix}\n",
    "1 & 7\\\\ \n",
    "3 & -6\n",
    "\\end{pmatrix}$, $B=\\begin{pmatrix}\n",
    "0 & 5\\\\ \n",
    "2 & -1\n",
    "\\end{pmatrix}$, $C=\\begin{pmatrix}\n",
    "2 & -4\\\\ \n",
    "1 & 1\n",
    "\\end{pmatrix}.$\n"
   ]
  },
  {
   "cell_type": "code",
   "execution_count": 3,
   "id": "3270088d",
   "metadata": {},
   "outputs": [
    {
     "name": "stdout",
     "output_type": "stream",
     "text": [
      "11 -5\n",
      "9 -12\n",
      "\n",
      "проверка numpy:\n"
     ]
    },
    {
     "data": {
      "text/plain": [
       "array([[ 11,  -5],\n",
       "       [  9, -12]])"
      ]
     },
     "execution_count": 3,
     "metadata": {},
     "output_type": "execute_result"
    }
   ],
   "source": [
    "r11 = 3 * 1 - 2 * 0 + 4 * 2\n",
    "r12 = 3 * 7 - 2 * 5 + 4 * -4\n",
    "r21 = 3 * 3 - 2 * 2 + 4 * 1\n",
    "r22 = 3 * -6 - 2 * -1 + 4 * 1\n",
    "print(f'{r11} {r12}\\n{r21} {r22}\\n')\n",
    "print('проверка numpy:')\n",
    "A = np.array([[1,7],[3,-6]])\n",
    "B = np.array([[0,5],[2,-1]])\n",
    "C = np.array([[2,-4],[1,1]])\n",
    "3 * A - 2 * B + 4 * C"
   ]
  },
  {
   "cell_type": "markdown",
   "id": "00fbd537",
   "metadata": {},
   "source": [
    "    \n",
    "__4.__ Дана матрица $A=\\begin{pmatrix}\n",
    "4 & 1\\\\ \n",
    "5 & -2\\\\ \n",
    "2 & 3\n",
    "\\end{pmatrix}$.\n",
    "Вычислите $AA^{T}$ и $A^{T}A$.\n",
    "\n"
   ]
  },
  {
   "cell_type": "markdown",
   "id": "0f1efd1b",
   "metadata": {},
   "source": [
    "$A^T=\\begin{pmatrix}\n",
    "4 & 5 & 2\\\\ \n",
    "1 & -2 & 3\\\\ \n",
    "\\end{pmatrix}$."
   ]
  },
  {
   "cell_type": "code",
   "execution_count": 4,
   "id": "ce9899d2",
   "metadata": {},
   "outputs": [
    {
     "name": "stdout",
     "output_type": "stream",
     "text": [
      "17 18 11\n",
      "18 29 4\n",
      "11 4 13\n",
      "\n",
      "45 0\n",
      "0 14\n",
      "\n",
      "проверка numpy:\n",
      "AAT:\n",
      " [[17 18 11]\n",
      " [18 29  4]\n",
      " [11  4 13]] \n",
      "\n",
      "ATA:\n",
      " [[45  0]\n",
      " [ 0 14]]\n"
     ]
    }
   ],
   "source": [
    "# aat = 3x3\n",
    "aat11 = 4 * 4 + 1 * 1\n",
    "aat12 = 5 * 4 - 2 * 1\n",
    "aat13 = 2 * 4 + 3 * 1\n",
    "aat21 = 4 * 5 + 1 * -2\n",
    "aat22 = 5 * 5 - 2 * -2\n",
    "aat23 = 2 * 5 + 3 * -2\n",
    "aat31 = 4 * 2 + 1 * 3\n",
    "aat32 = 5 * 2 - 2 * 3\n",
    "aat33 = 2 * 2 + 3 * 3\n",
    "print(f'{aat11} {aat12} {aat13}\\n{aat21} {aat22} {aat23}\\n{aat31} {aat32} {aat33}\\n')\n",
    "# ata = 2x2\n",
    "ata11 = 4 * 4 + 5 * 5 + 2 * 2\n",
    "ata12 = 4 * 1 + 5 * -2 + 2 * 3\n",
    "ata21 = 1 * 4 + -2 * 5 + 3 * 2\n",
    "ata22 = 1 * 1 + -2 * -2 + 3 * 3\n",
    "print(f'{ata11} {ata12}\\n{ata21} {ata22}\\n')\n",
    "print('проверка numpy:')\n",
    "A = np.array([[4,1],[5,-2],[2,3]])\n",
    "AT = np.array([[4,5,2],[1,-2,3]])\n",
    "# AT = A.T\n",
    "AAT = A @ AT\n",
    "ATA = AT @ A\n",
    "print('AAT:\\n',AAT,'\\n\\nATA:\\n', ATA)\n",
    "# print()\n",
    "# print(matrixmult(A,AT))\n",
    "# print()\n",
    "# print(matrixmult(AT,A))"
   ]
  },
  {
   "cell_type": "markdown",
   "id": "9f1bd905",
   "metadata": {},
   "source": [
    "__5*.__ Напишите на Python функцию для перемножения двух произвольных матриц, не используя NumPy."
   ]
  },
  {
   "cell_type": "markdown",
   "id": "15164867",
   "metadata": {},
   "source": [
    "$$\\begin{pmatrix}\n",
    "a_{1} & a_{2}\\\\ \n",
    "a_{3} & a_{4}\n",
    "\\end{pmatrix} \\begin{pmatrix}\n",
    "b_{1} & b_{2}\\\\ \n",
    "b_{3} & b_{4}\n",
    "\\end{pmatrix}=\\begin{pmatrix}\n",
    "(a_{1}b_{1} + a_{2}b_{3}) & (a_{1}b_{2} + a_{2}b_{4})\\\\ \n",
    "(a_{3}b_{1} + a_{4}b_{3}) & (a_{3}b_{2} + a_{4}b_{4})\n",
    "\\end{pmatrix}.$$"
   ]
  },
  {
   "cell_type": "code",
   "execution_count": 5,
   "id": "59108b85",
   "metadata": {},
   "outputs": [],
   "source": [
    "def matrixmult(A, B):\n",
    "    try:\n",
    "        temp_a = []\n",
    "        temp_b = []\n",
    "        for i in range(len(A)):\n",
    "            for j in range(len(B[0])):\n",
    "                s=0\n",
    "                for k in range(len(B)):\n",
    "                    s=s+(A[i][k]*B[k][j])\n",
    "                temp_a.append(s)\n",
    "            temp_b.append(temp_a)\n",
    "            temp_a=[]\n",
    "        return temp_b\n",
    "    except Exception as e:\n",
    "        print('число столбцов матрицы A должно быть равно числу строк матрицы B')\n",
    "        return"
   ]
  },
  {
   "cell_type": "code",
   "execution_count": 6,
   "id": "02325c5b",
   "metadata": {},
   "outputs": [
    {
     "data": {
      "text/plain": [
       "[[1, 1], [1, 0]]"
      ]
     },
     "execution_count": 6,
     "metadata": {},
     "output_type": "execute_result"
    }
   ],
   "source": [
    "A = [[0,1],[1,0]]\n",
    "B = [[1,0],[1,1]]\n",
    "matrixmult(A,B)"
   ]
  },
  {
   "cell_type": "code",
   "execution_count": 7,
   "id": "e023079a",
   "metadata": {},
   "outputs": [
    {
     "data": {
      "text/plain": [
       "array([[1, 1],\n",
       "       [1, 0]])"
      ]
     },
     "execution_count": 7,
     "metadata": {},
     "output_type": "execute_result"
    }
   ],
   "source": [
    "\n",
    "a = np.array(A)\n",
    "b = np.array(B)\n",
    "a @ b"
   ]
  },
  {
   "cell_type": "markdown",
   "id": "f4c62641",
   "metadata": {},
   "source": [
    "# part 2\n",
    "Все задания рекомендуется выполнять вручную, проверяя полученные результаты с использованием NumPy.\n",
    "\n",
    "__1.__ Вычислите определитель:\n",
    "\n",
    "   a)\n",
    "\n",
    "$$\\begin{vmatrix}\n",
    "sinx & -cosx\\\\ \n",
    "cosx & sinx\n",
    "\\end{vmatrix};$$\n",
    "\n",
    "   б)\n",
    "    \n",
    "$$\\begin{vmatrix}\n",
    "4 & 2 & 3\\\\ \n",
    "0 & 5 & 1\\\\ \n",
    "0 & 0 & 9\n",
    "\\end{vmatrix};$$\n",
    "    \n",
    "   в)\n",
    "\n",
    "$$\\begin{vmatrix}\n",
    "1 & 2 & 3\\\\ \n",
    "4 & 5 & 6\\\\ \n",
    "7 & 8 & 9\n",
    "\\end{vmatrix}.$$\n",
    "\n"
   ]
  },
  {
   "cell_type": "markdown",
   "id": "0ee2e1cc",
   "metadata": {},
   "source": [
    "a) sinx * sinx - (-cosx * cosx) = 1<br>\n",
    "б) 4 * 5 * 9 = 180<br>\n",
    "в) 1 * 18 * 26 = 468<br>\n",
    "1) из строки 2 вычтем строку 1 умноженную на 4<br>\n",
    "2) из строки 3 вычтем строку 1 умноженную на 7<br>\n",
    "3) из строки 3 вычтем строку 2 умноженную на 2<br>\n",
    "4) из строки 3 вычтем строку 2 деленую на 3<br>\n",
    "\n",
    "$$\\begin{vmatrix}\n",
    "1 & 2 & 3\\\\ \n",
    "0 & 18 & -6\\\\ \n",
    "0 & 0 & 26\n",
    "\\end{vmatrix}.$$"
   ]
  },
  {
   "cell_type": "code",
   "execution_count": 8,
   "id": "b56a6ec5",
   "metadata": {},
   "outputs": [
    {
     "name": "stdout",
     "output_type": "stream",
     "text": [
      "180.0 6.66133814775094e-16\n"
     ]
    }
   ],
   "source": [
    "B = np.array([[4,2,3],[0,5,1],[0,0,9]])\n",
    "C = np.array([[1,2,3],[4,5,6],[7,8,9]])\n",
    "print(np.linalg.det(B), np.linalg.det(C))"
   ]
  },
  {
   "cell_type": "markdown",
   "id": "bed0946a",
   "metadata": {},
   "source": [
    "\n",
    "__2.__ Определитель матрицы $A$ равен $4$. Найдите:\n",
    "\n",
    "   а) $det(A^{2})$;\n",
    "    \n",
    "   б) $det(A^{T})$;\n",
    "    \n",
    "   в) $det(2A)$.\n"
   ]
  },
  {
   "cell_type": "markdown",
   "id": "1dfa8d1f",
   "metadata": {},
   "source": [
    "a) 4, $det(AB)=detA\\cdot detB.$, что должно работать и в случае A @ A<br>\n",
    "б) 4, $detA^{T}=detA.$<br>\n",
    "в) 8, <br>"
   ]
  },
  {
   "cell_type": "markdown",
   "id": "7095599c",
   "metadata": {},
   "source": [
    "   \n",
    "__3.__  Докажите, что матрица:\n",
    "\n",
    "$$\\begin{pmatrix}\n",
    "-2 & 7 & -3\\\\ \n",
    "4 & -14 & 6\\\\ \n",
    "-3 & 7 & 13\n",
    "\\end{pmatrix}$$\n",
    "   \n",
    "вырожденная.\n",
    "\n"
   ]
  },
  {
   "cell_type": "code",
   "execution_count": 9,
   "id": "b6ec55ec",
   "metadata": {},
   "outputs": [
    {
     "name": "stdout",
     "output_type": "stream",
     "text": [
      "определитель матрицы равен нулю, значит матрица вырожденная\n"
     ]
    }
   ],
   "source": [
    "A = np.array([[-2,7,-3],[4,-14,6],[-3,7,13]])\n",
    "np.linalg.det(A)\n",
    "print('определитель матрицы равен нулю, значит матрица вырожденная')"
   ]
  },
  {
   "cell_type": "markdown",
   "id": "ac0fa81f",
   "metadata": {},
   "source": [
    "__4.__ Найдите ранг матрицы:\n",
    "\n",
    "   а) $\\begin{pmatrix}\n",
    "1 & 2 & 3\\\\ \n",
    "1 & 1 & 1\\\\ \n",
    "2 & 3 & 4\n",
    "\\end{pmatrix};$\n",
    "\n",
    "   б) $\\begin{pmatrix}\n",
    "0 & 0 & 2 & 1\\\\ \n",
    "0 & 0 & 2 & 2\\\\ \n",
    "0 & 0 & 4 & 3\\\\ \n",
    "2 & 3 & 5 & 6\n",
    "\\end{pmatrix}.$"
   ]
  },
  {
   "cell_type": "markdown",
   "id": "32a63752",
   "metadata": {},
   "source": [
    "a)\n",
    "1) умножить первую строку на -1, прибавить к ней вторую <br>\n",
    "2) умножить 2ю строку на -2, прибавить к ней третью<br>\n",
    "3) получится\n",
    "$\\begin{pmatrix}\n",
    "0 & -1 & -2\\\\ \n",
    "0 & 1 & 2\\\\ \n",
    "2 & 3 & 4\n",
    "\\end{pmatrix}$<br>\n",
    "4) первая и вторая пропорциональны, можно отбросить любую<br>\n",
    "5) ранг матрицы 2<br><br>\n",
    "б)\n",
    "1) третья строка это сумма 1 и второй строки, значит можно отбросить<br>\n",
    "2) больше ничего не вижу, ранг 3<br>\n"
   ]
  },
  {
   "cell_type": "code",
   "execution_count": 10,
   "id": "53e0ab5c",
   "metadata": {},
   "outputs": [
    {
     "data": {
      "text/plain": [
       "(2, 3)"
      ]
     },
     "execution_count": 10,
     "metadata": {},
     "output_type": "execute_result"
    }
   ],
   "source": [
    "a = np.array([[1,2,3],[1,1,1],[2,3,4]])\n",
    "b = np.array([[0,0,2,1],[0,0,2,2],[0,0,4,3],[2,3,5,6]])\n",
    "np.linalg.matrix_rank(a), np.linalg.matrix_rank(b)\n"
   ]
  }
 ],
 "metadata": {
  "kernelspec": {
   "display_name": "Python 3",
   "language": "python",
   "name": "python3"
  },
  "language_info": {
   "codemirror_mode": {
    "name": "ipython",
    "version": 3
   },
   "file_extension": ".py",
   "mimetype": "text/x-python",
   "name": "python",
   "nbconvert_exporter": "python",
   "pygments_lexer": "ipython3",
   "version": "3.8.8"
  }
 },
 "nbformat": 4,
 "nbformat_minor": 5
}
